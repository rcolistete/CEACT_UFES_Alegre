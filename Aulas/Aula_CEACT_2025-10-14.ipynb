{
 "cells": [
  {
   "cell_type": "markdown",
   "id": "99266f0b-4766-46d6-8220-6d5c64c16411",
   "metadata": {
    "id": "lsmefjJEM8p6"
   },
   "source": [
    "# <div style=\"text-align:center; color:blue\">Aula de 14/10/2025</div>\n",
    "## <div style=\"text-align:center\">Disciplina [\"Computação no Ensino e Aprendizagem de Ciência e Tecnologia\" (CEACT)](https://github.com/rcolistete/CEACT_UFES_Alegre)</div>\n",
    "## <div style=\"text-align:center; color:red\">Curso de Licenciatura em Física - 2025/2</div>\n",
    "### <center>[DQF - CCENS](http://alegre.ufes.br/ccens/departamento-de-quimica-e-fisica) - [UFES/Alegre](http://alegre.ufes.br/)</center>\n",
    "### <div style=\"text-align:center; color:green\">Autoria : [Roberto Colistete Jr.](https://github.com/rcolistete)</div>"
   ]
  },
  {
   "cell_type": "markdown",
   "id": "59b231c8-68de-42e9-be49-1eb1286ac5ec",
   "metadata": {},
   "source": [
    "## Usando Texto Formatado em documento Jupyter Notebook"
   ]
  },
  {
   "cell_type": "markdown",
   "id": "7a6659f5-d7db-455b-9a54-84d5a78fcadc",
   "metadata": {
    "jp-MarkdownHeadingCollapsed": true
   },
   "source": [
    "### Tabelas em Markdown"
   ]
  },
  {
   "cell_type": "markdown",
   "id": "b7de11a5-2f3e-4058-993b-2d64a8aaf1d3",
   "metadata": {},
   "source": [
    "(Clique duas vezes nas células abaixo para ver o código usado dentro de uma célula Markdown)"
   ]
  },
  {
   "cell_type": "markdown",
   "id": "9dcebba0-a4da-4a4c-8b3e-7c86e8527320",
   "metadata": {},
   "source": [
    "Tabelas em Markdown usam poucos carateres para definir estrutura, como `|` para colunas, `-` para cabeçalhos, `:` nas laterais dos cabeçalhos para alinhamento à esquerda (padrão), centralizado e direita."
   ]
  },
  {
   "cell_type": "markdown",
   "id": "ef02f7ca-f3a1-4702-8649-aaa63c1db62f",
   "metadata": {},
   "source": [
    "Notar no exemplo abaixo que :\n",
    "- deve ter uma linha em branco antes da tabela (caso tenha texto acima);\n",
    "- espaços em branco e não alinhamento no código Markdown são ignorados na visualização da tabela;\n",
    "- alinhamento à esquerda é o padrão (default), na 1a coluna;\n",
    "- alinhamento centralizado usa `:` na esquerda e direita do cabeçalho da coluna, caso da 2a coluna abaixo;\n",
    "- alinhamento à direita usa `:` na direita do cabeçalho da coluna, caso da 3a coluna abaixo."
   ]
  },
  {
   "cell_type": "markdown",
   "id": "fa731a28-eebe-4991-955b-de8a6e0b6c4c",
   "metadata": {},
   "source": [
    "<center> Tabela 1 : medidas de distância versus tempo em tabela Markdown. </center>\n",
    "\n",
    "|   N    | tempo (s) | distância (m) |\n",
    "|--------|:---------:|-------------:|\n",
    "|   1    |    0,0    |      0,00    |\n",
    "|   2    |    0,4    |      0,17    |\n",
    "|     3    |    0,9    |      0,83    |\n",
    "|   4    |    1,3    |    2,61    |\n",
    "|     5    | 1,8    |      3,38    |\n",
    "| 6    |    2,2    |      4,77    |\n"
   ]
  },
  {
   "cell_type": "markdown",
   "id": "617d32bd-cb18-4e0c-bbe9-c4c4f04a2742",
   "metadata": {},
   "source": [
    "#### Exercício sobre Tabela em Markdown"
   ]
  },
  {
   "cell_type": "markdown",
   "id": "8c76b593-59cc-4331-a7f3-54ba95c4b37b",
   "metadata": {},
   "source": [
    "Crie uma tabela em Markdown com os seguintes títulos de colunas no cabeçalho (sem o comentário entre parênteses) :\n",
    "\n",
    "* Módulo Python;\n",
    "* Site (oficial do projeto);\n",
    "* Última Versão (no site oficial);\n",
    "* Versão Anaconda (vide site abaixo);     \n",
    "\n",
    "e ao menos 5 linhas (fora cabecalho), considerando 5 módulos Python.\n",
    "\n",
    "Obs.: o software \"Anaconda\" tem as [versões de Python e de cada módulo](https://www.anaconda.com/docs/getting-started/anaconda/release-notes#packages) na 1a coluna, vide (escolha um sistema operacional)."
   ]
  },
  {
   "cell_type": "markdown",
   "id": "4ca7035a-83f8-4c5d-92d9-d0e9297ced1a",
   "metadata": {},
   "source": [
    "##### R.:"
   ]
  },
  {
   "cell_type": "markdown",
   "id": "7e2f5367-8016-4eb4-925a-6a4c2837276d",
   "metadata": {
    "jp-MarkdownHeadingCollapsed": true
   },
   "source": [
    "..."
   ]
  },
  {
   "cell_type": "markdown",
   "id": "43f76357-2e07-45d5-a6c6-8f2055b845fc",
   "metadata": {
    "jp-MarkdownHeadingCollapsed": true
   },
   "source": [
    "## Estruturas de Teste em Python : if, else, elif"
   ]
  },
  {
   "cell_type": "markdown",
   "id": "5de8ae51-921e-4335-8397-49ab341bc760",
   "metadata": {},
   "source": [
    "Condições de teste fixas usando valores verdadeiro (`True`) e falso (`False`) :"
   ]
  },
  {
   "cell_type": "code",
   "execution_count": null,
   "id": "28c76b2d-aa97-444c-917c-85baf3f935a2",
   "metadata": {},
   "outputs": [],
   "source": [
    "if True:\n",
    "    print(\"Como o 1o teste é sempre verdadeiro, esse print é sempre exibido...\")"
   ]
  },
  {
   "cell_type": "code",
   "execution_count": null,
   "id": "44c3229f",
   "metadata": {},
   "outputs": [],
   "source": [
    "if False:\n",
    "    print(\"Como o 1o teste é sempre falso, esse print nunca é exibido...\")\n",
    "else:    \n",
    "    print(\"Mas esse 2o print, do else/senão, é sempre exibido...\")"
   ]
  },
  {
   "cell_type": "code",
   "execution_count": null,
   "id": "174b85a6-6ae7-4e0e-8bc5-70e9036d5d96",
   "metadata": {},
   "outputs": [],
   "source": [
    "if False:\n",
    "    print(\"Como o 1o teste é sempre falso, esse 1o print nunca é exibido...\")\n",
    "elif True:\n",
    "    print(\"Como o 2o teste é sempre verdadeiro, esse print é sempre exibido...\")    \n",
    "else:    \n",
    "    print(\"Mas esse 3o print, do else/senão, nunca é exibido...\")"
   ]
  },
  {
   "cell_type": "markdown",
   "id": "d70279a8-e82b-4ff5-b6c0-36f18625a46c",
   "metadata": {},
   "source": [
    "Condições de teste com comparações :"
   ]
  },
  {
   "cell_type": "code",
   "execution_count": null,
   "id": "e0a6dca8-6053-4656-bd7b-7b4dd1986420",
   "metadata": {},
   "outputs": [],
   "source": [
    "acel = 42 \n",
    "if acel > 0:\n",
    "    print(\"Aceleração é positiva\")\n",
    "elif acel == 0:\n",
    "    print(\"Aceleração é nula\")\n",
    "else:    \n",
    "    print(\"Aceleração é negativa\")"
   ]
  },
  {
   "cell_type": "code",
   "execution_count": null,
   "id": "896c8cbb",
   "metadata": {},
   "outputs": [],
   "source": [
    "acel = -7\n",
    "if acel > 0:\n",
    "    print(\"Aceleração é positiva\")\n",
    "elif acel == 0:\n",
    "    print(\"Aceleração é nula\")\n",
    "else:    \n",
    "    print(\"Aceleração é negativa\")"
   ]
  },
  {
   "cell_type": "code",
   "execution_count": null,
   "id": "9d19b192-138a-4241-836a-da3aade76eb9",
   "metadata": {},
   "outputs": [],
   "source": [
    "acel = 0\n",
    "if acel > 0:\n",
    "    print(\"Aceleração é positiva\")\n",
    "elif acel == 0:\n",
    "    print(\"Aceleração é nula\")\n",
    "else:    \n",
    "    print(\"Aceleração é negativa\")"
   ]
  },
  {
   "cell_type": "markdown",
   "id": "aa706d55-697c-4667-802a-04cfc17823a9",
   "metadata": {},
   "source": [
    "Condições de teste com combinações de comparações com `and`, `or` e `not` :"
   ]
  },
  {
   "cell_type": "code",
   "execution_count": null,
   "id": "1ea185f0-1fe5-4475-9d5a-b3b5eb87df24",
   "metadata": {},
   "outputs": [],
   "source": [
    "def teste_massa(m):\n",
    "    if (m >= 10) and (m <= 100):\n",
    "        print(\"m entre 10 e 100\")\n",
    "    elif (m < 0) or (m > 100) :\n",
    "        print(\"m é negativo ou maior que 100\")\n",
    "    else:    \n",
    "        print(\"m maior que 0 e menor que 10\")"
   ]
  },
  {
   "cell_type": "code",
   "execution_count": null,
   "id": "426a6987-70fb-4321-9bc1-2553af86eaec",
   "metadata": {},
   "outputs": [],
   "source": [
    "teste_massa(42)"
   ]
  },
  {
   "cell_type": "code",
   "execution_count": null,
   "id": "59c076f8-a5f3-491a-8e1d-50757061b3aa",
   "metadata": {},
   "outputs": [],
   "source": [
    "teste_massa(200)"
   ]
  },
  {
   "cell_type": "code",
   "execution_count": null,
   "id": "9972d54a-f085-4220-9063-07c243e26c92",
   "metadata": {},
   "outputs": [],
   "source": [
    "teste_massa(4)"
   ]
  },
  {
   "cell_type": "markdown",
   "id": "5fd12b6b-bc09-44d7-8685-b02c96572496",
   "metadata": {},
   "source": [
    "#### Exercício sobre if/else/elif"
   ]
  },
  {
   "cell_type": "markdown",
   "id": "cf84aefb-a540-4bb5-ae55-9401c67b5e85",
   "metadata": {
    "jp-MarkdownHeadingCollapsed": true
   },
   "source": [
    "Teste se um número está entre 1970 e 2030, imprimindo mensagem de texto caso positivo e caso negativo."
   ]
  },
  {
   "cell_type": "markdown",
   "id": "81ac5263-1848-41f0-b6ef-c5a2dac97ebc",
   "metadata": {},
   "source": [
    "##### R.:"
   ]
  },
  {
   "cell_type": "markdown",
   "id": "a944ca57-cb90-4991-8ad7-3bec3b8ea7d4",
   "metadata": {
    "jp-MarkdownHeadingCollapsed": true
   },
   "source": [
    "..."
   ]
  },
  {
   "cell_type": "markdown",
   "id": "231179f7-402f-4ff5-9eae-9e8f12e33139",
   "metadata": {
    "id": "5BrFL2OhM8p9",
    "jp-MarkdownHeadingCollapsed": true
   },
   "source": [
    "## Listas em Python"
   ]
  },
  {
   "cell_type": "code",
   "execution_count": null,
   "id": "9c16c32d-981c-4068-92e5-d0e9ec276f4c",
   "metadata": {
    "executionInfo": {
     "elapsed": 446,
     "status": "ok",
     "timestamp": 1737756879215,
     "user": {
      "displayName": "Roberto Colistete Junior",
      "userId": "03873604542072389556"
     },
     "user_tz": 180
    },
    "id": "hUvrG_eXM8p9"
   },
   "outputs": [],
   "source": [
    "v = [1, 9, 4, 2]"
   ]
  },
  {
   "cell_type": "code",
   "execution_count": null,
   "id": "aa5c44e3-9683-444c-b08c-9e44ed97df90",
   "metadata": {
    "executionInfo": {
     "elapsed": 630,
     "status": "ok",
     "timestamp": 1737757082445,
     "user": {
      "displayName": "Roberto Colistete Junior",
      "userId": "03873604542072389556"
     },
     "user_tz": 180
    },
    "id": "UwrfPfmKM8p9"
   },
   "outputs": [],
   "source": [
    "?v"
   ]
  },
  {
   "cell_type": "code",
   "execution_count": null,
   "id": "45734174-27cb-439d-833d-9971fac67b7d",
   "metadata": {
    "colab": {
     "base_uri": "https://localhost:8080/"
    },
    "executionInfo": {
     "elapsed": 537,
     "status": "ok",
     "timestamp": 1737757115210,
     "user": {
      "displayName": "Roberto Colistete Junior",
      "userId": "03873604542072389556"
     },
     "user_tz": 180
    },
    "id": "PHX4BADpM8p_",
    "outputId": "b93182b6-e828-440c-94a5-88479422adf0"
   },
   "outputs": [],
   "source": [
    "len(v)"
   ]
  },
  {
   "cell_type": "code",
   "execution_count": null,
   "id": "97628b51-83ad-42a6-8203-46dbc723a266",
   "metadata": {
    "colab": {
     "base_uri": "https://localhost:8080/"
    },
    "executionInfo": {
     "elapsed": 425,
     "status": "ok",
     "timestamp": 1737757156139,
     "user": {
      "displayName": "Roberto Colistete Junior",
      "userId": "03873604542072389556"
     },
     "user_tz": 180
    },
    "id": "oP_qoPfQM8p_",
    "outputId": "a3aaa217-defe-447c-fb54-75c5bf7245de"
   },
   "outputs": [],
   "source": [
    "v[1]"
   ]
  },
  {
   "cell_type": "code",
   "execution_count": null,
   "id": "13e96c8c-9704-486c-a9a8-a033bced3b07",
   "metadata": {
    "colab": {
     "base_uri": "https://localhost:8080/"
    },
    "executionInfo": {
     "elapsed": 610,
     "status": "ok",
     "timestamp": 1737757158425,
     "user": {
      "displayName": "Roberto Colistete Junior",
      "userId": "03873604542072389556"
     },
     "user_tz": 180
    },
    "id": "YaDuKXoDM8p_",
    "outputId": "2f725082-0d76-4cff-907b-f946ddc4ed66"
   },
   "outputs": [],
   "source": [
    "v[0]"
   ]
  },
  {
   "cell_type": "code",
   "execution_count": null,
   "id": "282a7a72-e0ba-490b-9896-7bf6e6b90758",
   "metadata": {
    "colab": {
     "base_uri": "https://localhost:8080/"
    },
    "executionInfo": {
     "elapsed": 477,
     "status": "ok",
     "timestamp": 1737757194670,
     "user": {
      "displayName": "Roberto Colistete Junior",
      "userId": "03873604542072389556"
     },
     "user_tz": 180
    },
    "id": "HLw4NQGSM8p_",
    "outputId": "0a634908-52f2-48bd-8496-8c3a0929dc6d"
   },
   "outputs": [],
   "source": [
    "v[-1]"
   ]
  },
  {
   "cell_type": "code",
   "execution_count": null,
   "id": "51a8b692-c77f-4c01-a0ea-c84571fccdca",
   "metadata": {
    "colab": {
     "base_uri": "https://localhost:8080/"
    },
    "executionInfo": {
     "elapsed": 519,
     "status": "ok",
     "timestamp": 1737757241988,
     "user": {
      "displayName": "Roberto Colistete Junior",
      "userId": "03873604542072389556"
     },
     "user_tz": 180
    },
    "id": "76B8Q8PHZqLj",
    "outputId": "9b9853e9-009e-4ba0-826b-246e1d8286aa"
   },
   "outputs": [],
   "source": [
    "v[-2]"
   ]
  },
  {
   "cell_type": "code",
   "execution_count": null,
   "id": "87e25c8c-6fc0-429a-b84e-e4a419522fa9",
   "metadata": {
    "executionInfo": {
     "elapsed": 795,
     "status": "ok",
     "timestamp": 1737757413702,
     "user": {
      "displayName": "Roberto Colistete Junior",
      "userId": "03873604542072389556"
     },
     "user_tz": 180
    },
    "id": "371-FBhWM8p_"
   },
   "outputs": [],
   "source": [
    "v.reverse()"
   ]
  },
  {
   "cell_type": "code",
   "execution_count": null,
   "id": "9bb73f6a-8ea5-4ae5-b7d8-eb79899024e0",
   "metadata": {
    "colab": {
     "base_uri": "https://localhost:8080/"
    },
    "executionInfo": {
     "elapsed": 552,
     "status": "ok",
     "timestamp": 1737757429301,
     "user": {
      "displayName": "Roberto Colistete Junior",
      "userId": "03873604542072389556"
     },
     "user_tz": 180
    },
    "id": "ZPupVSNbM8p_",
    "outputId": "1a6a5018-80e3-4e7e-bed1-5eb6a1bc93fb"
   },
   "outputs": [],
   "source": [
    "v"
   ]
  },
  {
   "cell_type": "code",
   "execution_count": null,
   "id": "50fa495a-e392-478e-83f5-f86e00534cab",
   "metadata": {
    "colab": {
     "base_uri": "https://localhost:8080/"
    },
    "executionInfo": {
     "elapsed": 452,
     "status": "ok",
     "timestamp": 1737757470840,
     "user": {
      "displayName": "Roberto Colistete Junior",
      "userId": "03873604542072389556"
     },
     "user_tz": 180
    },
    "id": "DSF8110XM8p_",
    "outputId": "8078dead-9d1d-496e-b162-d63e984ddbf0"
   },
   "outputs": [],
   "source": [
    "v.reverse(); v"
   ]
  },
  {
   "cell_type": "code",
   "execution_count": null,
   "id": "f9c42337-392b-4ae3-9201-0978fc25e5b7",
   "metadata": {
    "executionInfo": {
     "elapsed": 1096,
     "status": "ok",
     "timestamp": 1737757521884,
     "user": {
      "displayName": "Roberto Colistete Junior",
      "userId": "03873604542072389556"
     },
     "user_tz": 180
    },
    "id": "40LxAcGVM8p_"
   },
   "outputs": [],
   "source": [
    "v.append(7)"
   ]
  },
  {
   "cell_type": "code",
   "execution_count": null,
   "id": "e8e7bce9-d276-4efe-847b-6d5ed2356028",
   "metadata": {
    "colab": {
     "base_uri": "https://localhost:8080/"
    },
    "executionInfo": {
     "elapsed": 2,
     "status": "ok",
     "timestamp": 1737757584501,
     "user": {
      "displayName": "Roberto Colistete Junior",
      "userId": "03873604542072389556"
     },
     "user_tz": 180
    },
    "id": "FTe8SSlTa5BX",
    "outputId": "4e8a3a0f-0c34-4813-d559-bf32724fb7e7"
   },
   "outputs": [],
   "source": [
    "v"
   ]
  },
  {
   "cell_type": "markdown",
   "id": "f9e11ddb-e3a2-4b96-b5bd-d3fc5782bbc3",
   "metadata": {
    "id": "i8usawl7M8p_",
    "jp-MarkdownHeadingCollapsed": true
   },
   "source": [
    "## Estruturas de Repetição em Python : `while`"
   ]
  },
  {
   "cell_type": "code",
   "execution_count": null,
   "id": "6be06b0f-d25e-43e6-9b7d-5afb1e649d74",
   "metadata": {
    "colab": {
     "base_uri": "https://localhost:8080/"
    },
    "executionInfo": {
     "elapsed": 445,
     "status": "ok",
     "timestamp": 1737758090420,
     "user": {
      "displayName": "Roberto Colistete Junior",
      "userId": "03873604542072389556"
     },
     "user_tz": 180
    },
    "id": "MiYy6iCmM8p_",
    "outputId": "b02ee592-b43e-41ca-f1cb-35e3a0280dd0"
   },
   "outputs": [],
   "source": [
    "a = 0\n",
    "while a < 10:\n",
    "    print(a)\n",
    "    a = a + 1"
   ]
  },
  {
   "cell_type": "code",
   "execution_count": null,
   "id": "5e79e1b1-ed7e-4132-be9f-37b1cfaf5efd",
   "metadata": {
    "colab": {
     "base_uri": "https://localhost:8080/"
    },
    "executionInfo": {
     "elapsed": 448,
     "status": "ok",
     "timestamp": 1737758142176,
     "user": {
      "displayName": "Roberto Colistete Junior",
      "userId": "03873604542072389556"
     },
     "user_tz": 180
    },
    "id": "GBYBb60mdKtS",
    "outputId": "dfa4d47c-296c-4cc9-ac00-51d85e55ab0d"
   },
   "outputs": [],
   "source": [
    "a = 0\n",
    "while a < 10:\n",
    "    print(a)\n",
    "    a += 1"
   ]
  },
  {
   "cell_type": "code",
   "execution_count": null,
   "id": "c7a2f621-8cca-4871-8f64-1a17a636a87e",
   "metadata": {
    "colab": {
     "base_uri": "https://localhost:8080/"
    },
    "executionInfo": {
     "elapsed": 5,
     "status": "ok",
     "timestamp": 1737758417333,
     "user": {
      "displayName": "Roberto Colistete Junior",
      "userId": "03873604542072389556"
     },
     "user_tz": 180
    },
    "id": "pz1J8GYxdlim",
    "outputId": "b674ff46-671a-47e2-a9bc-07866f17e7c5"
   },
   "outputs": [],
   "source": [
    "i = 0\n",
    "while i < len(v):\n",
    "    print(\"índice=\", i, \"elemento de v :\", v[i])\n",
    "    i += 1"
   ]
  },
  {
   "cell_type": "markdown",
   "id": "72b7d31b-52e4-4b62-b1af-db6cf0b697be",
   "metadata": {
    "id": "IVclFE4fM8p_",
    "jp-MarkdownHeadingCollapsed": true
   },
   "source": [
    "## Estruturas de Repetição em Python : `for``"
   ]
  },
  {
   "cell_type": "code",
   "execution_count": null,
   "id": "9dc4e08d-af8f-4d9e-b66b-dc3c90e293b6",
   "metadata": {
    "colab": {
     "base_uri": "https://localhost:8080/"
    },
    "executionInfo": {
     "elapsed": 452,
     "status": "ok",
     "timestamp": 1737758793224,
     "user": {
      "displayName": "Roberto Colistete Junior",
      "userId": "03873604542072389556"
     },
     "user_tz": 180
    },
    "id": "NatA1FJVM8p_",
    "outputId": "e0c43c52-1f92-462b-bad9-da672b898ffd"
   },
   "outputs": [],
   "source": [
    "for a in range(10):\n",
    "    print(a)"
   ]
  },
  {
   "cell_type": "code",
   "execution_count": null,
   "id": "d46410ac-671f-4531-bd3b-4af755295d7d",
   "metadata": {
    "colab": {
     "base_uri": "https://localhost:8080/"
    },
    "executionInfo": {
     "elapsed": 457,
     "status": "ok",
     "timestamp": 1737758920884,
     "user": {
      "displayName": "Roberto Colistete Junior",
      "userId": "03873604542072389556"
     },
     "user_tz": 180
    },
    "id": "zlLJWx-pfxRl",
    "outputId": "ae3205eb-37c3-486e-b7a4-a6c9fc38d3cd"
   },
   "outputs": [],
   "source": [
    "for i in v:\n",
    "    print(i)"
   ]
  },
  {
   "cell_type": "markdown",
   "id": "9cbb1282-8b3d-40fd-b4a6-7334f0277727",
   "metadata": {
    "jp-MarkdownHeadingCollapsed": true
   },
   "source": [
    "## [SymPy](https://www.sympy.org/en/index.html)"
   ]
  },
  {
   "cell_type": "code",
   "execution_count": null,
   "id": "b3a7d047-d136-4abc-9e2a-8c2332e0fce1",
   "metadata": {},
   "outputs": [],
   "source": [
    "from sympy import *"
   ]
  },
  {
   "cell_type": "code",
   "execution_count": null,
   "id": "dce3503f-8709-451c-b36c-6150676c1673",
   "metadata": {},
   "outputs": [],
   "source": [
    "x, y, t = symbols('x y t')"
   ]
  },
  {
   "cell_type": "code",
   "execution_count": null,
   "id": "6241bf8d-0560-4556-b0a9-e2523e796ebb",
   "metadata": {},
   "outputs": [],
   "source": [
    "x"
   ]
  },
  {
   "cell_type": "code",
   "execution_count": null,
   "id": "18922159-ce80-4f83-8b48-30553b7c9f51",
   "metadata": {
    "scrolled": true
   },
   "outputs": [],
   "source": [
    "?x"
   ]
  },
  {
   "cell_type": "code",
   "execution_count": null,
   "id": "1a8d0ae6-66af-4fb1-a2ce-c2920e49186a",
   "metadata": {},
   "outputs": [],
   "source": [
    "(x + 2)**2"
   ]
  },
  {
   "cell_type": "code",
   "execution_count": null,
   "id": "50681263-d7a2-4609-913f-3e2205003aef",
   "metadata": {},
   "outputs": [],
   "source": [
    "expand((x + 2)**2)"
   ]
  },
  {
   "cell_type": "code",
   "execution_count": null,
   "id": "efc65deb-af5d-4c7e-be5f-b2986f2a8d13",
   "metadata": {},
   "outputs": [],
   "source": [
    "expand((x + 2)**12)"
   ]
  },
  {
   "cell_type": "code",
   "execution_count": null,
   "id": "8da5573f-53a7-4503-ac86-04e929da416d",
   "metadata": {},
   "outputs": [],
   "source": [
    "expand((x + y)**2)"
   ]
  },
  {
   "cell_type": "code",
   "execution_count": null,
   "id": "a00fb925-e689-43f9-a46e-a791d9ec517e",
   "metadata": {},
   "outputs": [],
   "source": [
    "expand((x + y)**12)"
   ]
  },
  {
   "cell_type": "markdown",
   "id": "0e36f601-5e83-494f-8d2d-8a0bc3f541ca",
   "metadata": {},
   "source": [
    "#### [Cálculo](https://docs.sympy.org/latest/tutorials/intro-tutorial/calculus.html)"
   ]
  },
  {
   "cell_type": "code",
   "execution_count": null,
   "id": "a549cbb7-4143-475e-a64f-3e1f2b430344",
   "metadata": {},
   "outputs": [],
   "source": [
    "limit(sin(x)/x, x, 0)"
   ]
  },
  {
   "cell_type": "code",
   "execution_count": null,
   "id": "607b8586-af76-44e1-adfd-a50140507718",
   "metadata": {},
   "outputs": [],
   "source": [
    "limit(1/x, x, 0, '+')"
   ]
  },
  {
   "cell_type": "code",
   "execution_count": null,
   "id": "97e37534-c131-46b5-a327-eaec454843fc",
   "metadata": {},
   "outputs": [],
   "source": [
    "limit(1/x, x, 0, '-')"
   ]
  },
  {
   "cell_type": "code",
   "execution_count": null,
   "id": "3971b7cd-a7a0-4385-8188-65cbba15ff94",
   "metadata": {},
   "outputs": [],
   "source": [
    "diff(sin(x), x)"
   ]
  },
  {
   "cell_type": "code",
   "execution_count": null,
   "id": "91556b46-6f88-47c6-8768-308b30d6a3e8",
   "metadata": {},
   "outputs": [],
   "source": [
    "diff(exp(42*x), x)"
   ]
  },
  {
   "cell_type": "code",
   "execution_count": null,
   "id": "6319597d-1582-4eb4-a8b5-06c6208f5fdf",
   "metadata": {},
   "outputs": [],
   "source": [
    "Integral(cos(x), x)"
   ]
  },
  {
   "cell_type": "code",
   "execution_count": null,
   "id": "06ef8201-3cdd-407e-b915-7d4d01e8eb44",
   "metadata": {},
   "outputs": [],
   "source": [
    "integrate(cos(x), x)"
   ]
  },
  {
   "cell_type": "code",
   "execution_count": null,
   "id": "75fc7c06-5507-4715-9870-d184a07c77d7",
   "metadata": {},
   "outputs": [],
   "source": [
    "Integral(cos(x), (x, 0, pi/2))"
   ]
  },
  {
   "cell_type": "code",
   "execution_count": null,
   "id": "d8a81672-d5ce-4e7a-a46d-fe239abcd5c4",
   "metadata": {},
   "outputs": [],
   "source": [
    "integrate(cos(x), (x, 0, pi/2))"
   ]
  },
  {
   "cell_type": "code",
   "execution_count": null,
   "id": "ed2ee8b8-93da-4cc8-a705-b28a310eac95",
   "metadata": {},
   "outputs": [],
   "source": [
    "series(sin(x), x, 0, 10)"
   ]
  },
  {
   "cell_type": "code",
   "execution_count": null,
   "id": "db521125-852b-419e-9fb0-9f0442207864",
   "metadata": {},
   "outputs": [],
   "source": [
    "solve(x**2 + 10*x + 1, x) "
   ]
  },
  {
   "cell_type": "markdown",
   "id": "d725b8a3-8877-4d80-8cad-b861171d4103",
   "metadata": {
    "jp-MarkdownHeadingCollapsed": true
   },
   "source": [
    "### Gráficos usando [SymPy Plotting](https://docs.sympy.org/latest/modules/plotting.html#)"
   ]
  },
  {
   "cell_type": "code",
   "execution_count": null,
   "id": "4c6647d7-5b63-4c49-9cf8-de142decd1e5",
   "metadata": {},
   "outputs": [],
   "source": [
    "plot(sin(x),(x, 0, 10))"
   ]
  },
  {
   "cell_type": "code",
   "execution_count": null,
   "id": "cfb09bbe-3083-47e1-9128-6f6bf924f2a8",
   "metadata": {},
   "outputs": [],
   "source": [
    "plot(sin(x),(x, 0, 10));"
   ]
  },
  {
   "cell_type": "code",
   "execution_count": null,
   "id": "009943b6-e55e-47f3-af12-2b3d95b8f0f4",
   "metadata": {},
   "outputs": [],
   "source": [
    "plot(2.5*exp(-1.0*t/2)*cos(pi*t), (t, 0, 10), \n",
    "     title=u'Oscilador amortecido', legend=True, \n",
    "     xlabel='t', ylabel='x(t)');"
   ]
  },
  {
   "cell_type": "code",
   "execution_count": null,
   "id": "99aa669a-0dd1-48f9-a384-c38fea468ac6",
   "metadata": {},
   "outputs": [],
   "source": [
    "plot_parametric(cos(4*t)*cos(t), cos(4*t)*sin(t), \n",
    "        (t, 0, 2*pi), \n",
    "        title=u'Rosácea em coordenadas polares');"
   ]
  },
  {
   "cell_type": "code",
   "execution_count": null,
   "id": "60e961b7-640b-42f8-8892-d4f2d7f1a8bb",
   "metadata": {},
   "outputs": [],
   "source": [
    "plot_parametric(cos(5*t)*cos(t), cos(5*t)*sin(t), \n",
    "        (t, 0, 2*pi), \n",
    "        title=u'Rosácea em coordenadas polares');"
   ]
  },
  {
   "cell_type": "code",
   "execution_count": null,
   "id": "2c953226-9960-4d3f-83d9-1cc4d1de4c20",
   "metadata": {},
   "outputs": [],
   "source": [
    "from sympy.plotting import plot3d"
   ]
  },
  {
   "cell_type": "code",
   "execution_count": null,
   "id": "afaa1118-52cd-4d4a-bc91-adbc854954eb",
   "metadata": {},
   "outputs": [],
   "source": [
    "plot3d(5*x*y*exp(-x**2-y**2), (x, -2, 2), (y, -2, 2));"
   ]
  },
  {
   "cell_type": "code",
   "execution_count": null,
   "id": "633e8820-e562-4efa-a52b-648cadf09f86",
   "metadata": {},
   "outputs": [],
   "source": [
    "plot3d(5*x*y*exp(-x**2-y**2), (x, -2, 2), (y, -2, 2),\n",
    "       title=u'Superfície colorida', \n",
    "       xlabel='x', ylabel='y');"
   ]
  },
  {
   "cell_type": "code",
   "execution_count": null,
   "id": "be2dfaca-6e32-47fe-a455-51653e2b60aa",
   "metadata": {},
   "outputs": [],
   "source": [
    "from sympy.plotting import plot3d_parametric_line"
   ]
  },
  {
   "cell_type": "code",
   "execution_count": null,
   "id": "b6a5a158-2b99-4d0f-b57d-ab0dd163aaee",
   "metadata": {},
   "outputs": [],
   "source": [
    "wire3D = plot3d_parametric_line((2+cos(16*t))*cos(t),\n",
    "                                (2+cos(16*t))*sin(t), sin(16*t), \n",
    "                                (t,0,2*pi), title='Wire 3D curve', \n",
    "                                xlabel='x', ylabel='y');"
   ]
  },
  {
   "cell_type": "code",
   "execution_count": null,
   "id": "c14417e3-5d52-49b8-af23-8dfeb0161587",
   "metadata": {},
   "outputs": [],
   "source": []
  }
 ],
 "metadata": {
  "kernelspec": {
   "display_name": "Python 3 (ipykernel)",
   "language": "python",
   "name": "python3"
  },
  "language_info": {
   "codemirror_mode": {
    "name": "ipython",
    "version": 3
   },
   "file_extension": ".py",
   "mimetype": "text/x-python",
   "name": "python",
   "nbconvert_exporter": "python",
   "pygments_lexer": "ipython3",
   "version": "3.13.5"
  }
 },
 "nbformat": 4,
 "nbformat_minor": 5
}
