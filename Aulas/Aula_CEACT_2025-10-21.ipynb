{
 "cells": [
  {
   "cell_type": "markdown",
   "id": "99266f0b-4766-46d6-8220-6d5c64c16411",
   "metadata": {
    "id": "lsmefjJEM8p6"
   },
   "source": [
    "# <div style=\"text-align:center; color:blue\">Aula de 21/10/2025</div>\n",
    "## <div style=\"text-align:center\">Disciplina [\"Computação no Ensino e Aprendizagem de Ciência e Tecnologia\" (CEACT)](https://github.com/rcolistete/CEACT_UFES_Alegre)</div>\n",
    "## <div style=\"text-align:center; color:red\">Curso de Licenciatura em Física - 2025/2</div>\n",
    "### <center>[DQF - CCENS](http://alegre.ufes.br/ccens/departamento-de-quimica-e-fisica) - [UFES/Alegre](http://alegre.ufes.br/)</center>\n",
    "### <div style=\"text-align:center; color:green\">Autoria : [Roberto Colistete Jr.](https://github.com/rcolistete)</div>"
   ]
  },
  {
   "cell_type": "markdown",
   "id": "9cbb1282-8b3d-40fd-b4a6-7334f0277727",
   "metadata": {},
   "source": [
    "## Módulo [SymPy](https://www.sympy.org/en/index.html) (Symbolic Python)"
   ]
  },
  {
   "cell_type": "markdown",
   "id": "b93cce54-6b8c-4780-abe5-f82a4351d5cd",
   "metadata": {
    "jp-MarkdownHeadingCollapsed": true
   },
   "source": [
    "### Importando SymPy"
   ]
  },
  {
   "cell_type": "markdown",
   "id": "72526053-f49e-4d98-bab4-12c33ff9e285",
   "metadata": {},
   "source": [
    "Anaconda Python (Distribution) e Google Colab já tem o módulo SymPy pré-instalados."
   ]
  },
  {
   "cell_type": "markdown",
   "id": "d7d65229-bc41-440a-a925-7f50d4b59f03",
   "metadata": {},
   "source": [
    "Uma das formas mais populares para importar o módulo SymPy e essa, em que todos os objetos importados ficam no contexto global :"
   ]
  },
  {
   "cell_type": "code",
   "execution_count": null,
   "id": "b3a7d047-d136-4abc-9e2a-8c2332e0fce1",
   "metadata": {},
   "outputs": [],
   "source": [
    "from sympy import *"
   ]
  },
  {
   "cell_type": "markdown",
   "id": "618ba9f2-6a46-4aa6-a089-1e3ad2d9573e",
   "metadata": {
    "jp-MarkdownHeadingCollapsed": true
   },
   "source": [
    "### Símbolos e Expressões em SymPy"
   ]
  },
  {
   "cell_type": "markdown",
   "id": "86137f38-ad64-40ad-b3dc-bbbe4d50cb41",
   "metadata": {},
   "source": [
    "Todo símbolo (variável literal, sem valor associado) deve ser declarado dessa forma em SymPy, para diferenciar dos  objetos em Python que precisam ter valores antes de serem usados :"
   ]
  },
  {
   "cell_type": "code",
   "execution_count": null,
   "id": "dce3503f-8709-451c-b36c-6150676c1673",
   "metadata": {},
   "outputs": [],
   "source": [
    "x, y, z, t, a, b, c = symbols('x, y, z, t, a, b, c')"
   ]
  },
  {
   "cell_type": "code",
   "execution_count": null,
   "id": "6241bf8d-0560-4556-b0a9-e2523e796ebb",
   "metadata": {},
   "outputs": [],
   "source": [
    "x"
   ]
  },
  {
   "cell_type": "code",
   "execution_count": null,
   "id": "18922159-ce80-4f83-8b48-30553b7c9f51",
   "metadata": {
    "scrolled": true
   },
   "outputs": [],
   "source": [
    "?x"
   ]
  },
  {
   "cell_type": "code",
   "execution_count": null,
   "id": "1a8d0ae6-66af-4fb1-a2ce-c2920e49186a",
   "metadata": {},
   "outputs": [],
   "source": [
    "(x + 2)**2"
   ]
  },
  {
   "cell_type": "code",
   "execution_count": null,
   "id": "50681263-d7a2-4609-913f-3e2205003aef",
   "metadata": {},
   "outputs": [],
   "source": [
    "expand((x + 2)**2)"
   ]
  },
  {
   "cell_type": "code",
   "execution_count": null,
   "id": "efc65deb-af5d-4c7e-be5f-b2986f2a8d13",
   "metadata": {},
   "outputs": [],
   "source": [
    "expand((x + 2)**12)"
   ]
  },
  {
   "cell_type": "code",
   "execution_count": null,
   "id": "8da5573f-53a7-4503-ac86-04e929da416d",
   "metadata": {},
   "outputs": [],
   "source": [
    "expr1 = expand((x + 5)**3); expr1"
   ]
  },
  {
   "cell_type": "code",
   "execution_count": null,
   "id": "129f90cd-c301-41df-b5c5-a2aca9baf8cb",
   "metadata": {},
   "outputs": [],
   "source": [
    "factor(expr1)"
   ]
  },
  {
   "cell_type": "code",
   "execution_count": null,
   "id": "a00fb925-e689-43f9-a46e-a791d9ec517e",
   "metadata": {},
   "outputs": [],
   "source": [
    "expr2 = expand(9*(x + y)**3); expr2"
   ]
  },
  {
   "cell_type": "code",
   "execution_count": null,
   "id": "95b4df1e-223e-400f-9a47-a595cafcc7ec",
   "metadata": {},
   "outputs": [],
   "source": [
    "simplify(expr2)"
   ]
  },
  {
   "cell_type": "markdown",
   "id": "0e36f601-5e83-494f-8d2d-8a0bc3f541ca",
   "metadata": {},
   "source": [
    "### [Cálculo em SymPy](https://docs.sympy.org/latest/tutorials/intro-tutorial/calculus.html)"
   ]
  },
  {
   "cell_type": "markdown",
   "id": "682a9258-f620-4097-a124-a678b26cdb86",
   "metadata": {
    "jp-MarkdownHeadingCollapsed": true
   },
   "source": [
    "#### [Limites em SymPy](https://docs.sympy.org/latest/tutorials/intro-tutorial/calculus.html#limits)"
   ]
  },
  {
   "cell_type": "code",
   "execution_count": null,
   "id": "a549cbb7-4143-475e-a64f-3e1f2b430344",
   "metadata": {},
   "outputs": [],
   "source": [
    "limit(sin(x)/x, x, 0)"
   ]
  },
  {
   "cell_type": "code",
   "execution_count": null,
   "id": "607b8586-af76-44e1-adfd-a50140507718",
   "metadata": {},
   "outputs": [],
   "source": [
    "limit(1/x, x, 0, '+')"
   ]
  },
  {
   "cell_type": "code",
   "execution_count": null,
   "id": "97e37534-c131-46b5-a327-eaec454843fc",
   "metadata": {},
   "outputs": [],
   "source": [
    "limit(1/x, x, 0, '-')"
   ]
  },
  {
   "cell_type": "code",
   "execution_count": null,
   "id": "c4304077-6547-4d18-bc00-a12225e2b68c",
   "metadata": {},
   "outputs": [],
   "source": []
  },
  {
   "cell_type": "code",
   "execution_count": null,
   "id": "8a02b753-f0ac-4ba1-81d1-67f800ea0f37",
   "metadata": {},
   "outputs": [],
   "source": []
  },
  {
   "cell_type": "markdown",
   "id": "c8db1784-f9a4-4e80-b417-4c2a0e4cbc5e",
   "metadata": {
    "jp-MarkdownHeadingCollapsed": true
   },
   "source": [
    "#### [Derivadas em SymPy](https://docs.sympy.org/latest/tutorials/intro-tutorial/calculus.html#derivatives)"
   ]
  },
  {
   "cell_type": "code",
   "execution_count": null,
   "id": "3971b7cd-a7a0-4385-8188-65cbba15ff94",
   "metadata": {},
   "outputs": [],
   "source": [
    "diff(sin(x), x)"
   ]
  },
  {
   "cell_type": "code",
   "execution_count": null,
   "id": "91556b46-6f88-47c6-8768-308b30d6a3e8",
   "metadata": {},
   "outputs": [],
   "source": [
    "diff(exp(42*x), x)"
   ]
  },
  {
   "cell_type": "code",
   "execution_count": null,
   "id": "1ca39b84-d92a-4060-8994-d1e84f6aec11",
   "metadata": {},
   "outputs": [],
   "source": []
  },
  {
   "cell_type": "code",
   "execution_count": null,
   "id": "06cbf304-2865-4e8f-89c5-296ab3534dc9",
   "metadata": {},
   "outputs": [],
   "source": []
  },
  {
   "cell_type": "markdown",
   "id": "1daa8a07-1a7f-437e-9d65-3b4d52f00768",
   "metadata": {
    "jp-MarkdownHeadingCollapsed": true
   },
   "source": [
    "#### [Integrais em SymPy](https://docs.sympy.org/latest/tutorials/intro-tutorial/calculus.html#integrals)"
   ]
  },
  {
   "cell_type": "code",
   "execution_count": null,
   "id": "6319597d-1582-4eb4-a8b5-06c6208f5fdf",
   "metadata": {},
   "outputs": [],
   "source": [
    "Integral(cos(x), x)"
   ]
  },
  {
   "cell_type": "code",
   "execution_count": null,
   "id": "06ef8201-3cdd-407e-b915-7d4d01e8eb44",
   "metadata": {},
   "outputs": [],
   "source": [
    "integrate(cos(x), x)"
   ]
  },
  {
   "cell_type": "code",
   "execution_count": null,
   "id": "75fc7c06-5507-4715-9870-d184a07c77d7",
   "metadata": {},
   "outputs": [],
   "source": [
    "Integral(cos(x), (x, 0, pi/2))"
   ]
  },
  {
   "cell_type": "code",
   "execution_count": null,
   "id": "d8a81672-d5ce-4e7a-a46d-fe239abcd5c4",
   "metadata": {},
   "outputs": [],
   "source": [
    "integrate(cos(x), (x, 0, pi/2))"
   ]
  },
  {
   "cell_type": "code",
   "execution_count": null,
   "id": "05916904-8e50-472a-9697-4bfd45181b23",
   "metadata": {},
   "outputs": [],
   "source": []
  },
  {
   "cell_type": "code",
   "execution_count": null,
   "id": "d9deb894-ed04-40db-91b5-99183f278f18",
   "metadata": {},
   "outputs": [],
   "source": []
  },
  {
   "cell_type": "markdown",
   "id": "169902c0-dc3c-4fd8-b666-ebe0a5b742e4",
   "metadata": {},
   "source": [
    "#### [Séries de Potências em SymPy](https://docs.sympy.org/latest/tutorials/intro-tutorial/calculus.html#series-expansion)"
   ]
  },
  {
   "cell_type": "code",
   "execution_count": null,
   "id": "ed2ee8b8-93da-4cc8-a705-b28a310eac95",
   "metadata": {},
   "outputs": [],
   "source": [
    "series(sin(x), x, 0, 10)"
   ]
  },
  {
   "cell_type": "code",
   "execution_count": null,
   "id": "db521125-852b-419e-9fb0-9f0442207864",
   "metadata": {},
   "outputs": [],
   "source": [
    "series(tan(a*x), x, 0, 12)"
   ]
  },
  {
   "cell_type": "code",
   "execution_count": null,
   "id": "ef326948-bb44-4af1-abaa-62ebc52d936e",
   "metadata": {},
   "outputs": [],
   "source": []
  },
  {
   "cell_type": "code",
   "execution_count": null,
   "id": "edab2c17-fe87-4145-b1bd-e502d628d73a",
   "metadata": {},
   "outputs": [],
   "source": []
  },
  {
   "cell_type": "markdown",
   "id": "d725b8a3-8877-4d80-8cad-b861171d4103",
   "metadata": {
    "jp-MarkdownHeadingCollapsed": true
   },
   "source": [
    "### Gráficos usando [SymPy Plotting](https://docs.sympy.org/latest/modules/plotting.html#)"
   ]
  },
  {
   "cell_type": "code",
   "execution_count": null,
   "id": "4c6647d7-5b63-4c49-9cf8-de142decd1e5",
   "metadata": {},
   "outputs": [],
   "source": [
    "plot(sin(x),(x, 0, 10))"
   ]
  },
  {
   "cell_type": "code",
   "execution_count": null,
   "id": "cfb09bbe-3083-47e1-9128-6f6bf924f2a8",
   "metadata": {},
   "outputs": [],
   "source": [
    "plot(sin(x),(x, 0, 10));"
   ]
  },
  {
   "cell_type": "code",
   "execution_count": null,
   "id": "009943b6-e55e-47f3-af12-2b3d95b8f0f4",
   "metadata": {},
   "outputs": [],
   "source": [
    "plot(2.5*exp(-1.0*t/2)*cos(pi*t), (t, 0, 10), \n",
    "     title=u'Oscilador amortecido', legend=True, \n",
    "     xlabel='t', ylabel='x(t)');"
   ]
  },
  {
   "cell_type": "code",
   "execution_count": null,
   "id": "99aa669a-0dd1-48f9-a384-c38fea468ac6",
   "metadata": {},
   "outputs": [],
   "source": [
    "plot_parametric(cos(4*t)*cos(t), cos(4*t)*sin(t), \n",
    "        (t, 0, 2*pi), \n",
    "        title=u'Rosácea em coordenadas polares');"
   ]
  },
  {
   "cell_type": "code",
   "execution_count": null,
   "id": "60e961b7-640b-42f8-8892-d4f2d7f1a8bb",
   "metadata": {},
   "outputs": [],
   "source": [
    "plot_parametric(cos(5*t)*cos(t), cos(5*t)*sin(t), \n",
    "        (t, 0, 2*pi), \n",
    "        title=u'Rosácea em coordenadas polares');"
   ]
  },
  {
   "cell_type": "code",
   "execution_count": null,
   "id": "2c953226-9960-4d3f-83d9-1cc4d1de4c20",
   "metadata": {},
   "outputs": [],
   "source": [
    "from sympy.plotting import plot3d"
   ]
  },
  {
   "cell_type": "code",
   "execution_count": null,
   "id": "afaa1118-52cd-4d4a-bc91-adbc854954eb",
   "metadata": {},
   "outputs": [],
   "source": [
    "plot3d(5*x*y*exp(-x**2-y**2), (x, -2, 2), (y, -2, 2));"
   ]
  },
  {
   "cell_type": "code",
   "execution_count": null,
   "id": "633e8820-e562-4efa-a52b-648cadf09f86",
   "metadata": {},
   "outputs": [],
   "source": [
    "plot3d(5*x*y*exp(-x**2-y**2), (x, -2, 2), (y, -2, 2),\n",
    "       title=u'Superfície colorida', \n",
    "       xlabel='x', ylabel='y');"
   ]
  },
  {
   "cell_type": "code",
   "execution_count": null,
   "id": "be2dfaca-6e32-47fe-a455-51653e2b60aa",
   "metadata": {},
   "outputs": [],
   "source": [
    "from sympy.plotting import plot3d_parametric_line"
   ]
  },
  {
   "cell_type": "code",
   "execution_count": null,
   "id": "b6a5a158-2b99-4d0f-b57d-ab0dd163aaee",
   "metadata": {},
   "outputs": [],
   "source": [
    "wire3D = plot3d_parametric_line((2+cos(16*t))*cos(t),\n",
    "                                (2+cos(16*t))*sin(t), sin(16*t), \n",
    "                                (t,0,2*pi), title='Wire 3D curve', \n",
    "                                xlabel='x', ylabel='y');"
   ]
  }
 ],
 "metadata": {
  "kernelspec": {
   "display_name": "Python 3 (ipykernel)",
   "language": "python",
   "name": "python3"
  },
  "language_info": {
   "codemirror_mode": {
    "name": "ipython",
    "version": 3
   },
   "file_extension": ".py",
   "mimetype": "text/x-python",
   "name": "python",
   "nbconvert_exporter": "python",
   "pygments_lexer": "ipython3",
   "version": "3.13.5"
  }
 },
 "nbformat": 4,
 "nbformat_minor": 5
}
