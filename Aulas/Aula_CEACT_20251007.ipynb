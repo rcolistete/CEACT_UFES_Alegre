{
 "cells": [
  {
   "cell_type": "markdown",
   "id": "42262975-945d-4118-897c-822c40a9962e",
   "metadata": {},
   "source": [
    "# Aula de CEACT\n",
    "## Aluno : Roberto\n",
    "### Data : 23/09/2025"
   ]
  },
  {
   "cell_type": "markdown",
   "id": "9bf3e7d4-521e-4efe-973b-fc4ac2316482",
   "metadata": {},
   "source": [
    "## Python como Calculadora"
   ]
  },
  {
   "cell_type": "code",
   "execution_count": null,
   "id": "f7fcadc5-d684-4fa6-91f0-433e7207630f",
   "metadata": {},
   "outputs": [],
   "source": [
    "1+1"
   ]
  },
  {
   "cell_type": "code",
   "execution_count": null,
   "id": "511995f8-da7e-40dd-9ae3-99245c61b5e3",
   "metadata": {},
   "outputs": [],
   "source": [
    "((42-13)*17)/(7+15)"
   ]
  },
  {
   "cell_type": "code",
   "execution_count": null,
   "id": "93d655f4-48ec-4e95-a695-8bd17eacdc69",
   "metadata": {},
   "outputs": [],
   "source": [
    "16**2"
   ]
  },
  {
   "cell_type": "code",
   "execution_count": null,
   "id": "205f5c7c-7a95-4148-8577-4ba10f425788",
   "metadata": {},
   "outputs": [],
   "source": [
    "81**(1/2)"
   ]
  },
  {
   "cell_type": "code",
   "execution_count": null,
   "id": "fe4f544e-7f2f-40b7-8653-915c8dd7f75f",
   "metadata": {},
   "outputs": [],
   "source": [
    "import math"
   ]
  },
  {
   "cell_type": "code",
   "execution_count": null,
   "id": "32c3b068-841a-4816-a95d-e90e03243e6d",
   "metadata": {},
   "outputs": [],
   "source": [
    "math.sin(math.pi/6)"
   ]
  },
  {
   "cell_type": "code",
   "execution_count": null,
   "id": "0479ee61-c876-4c41-86f7-9e62169f3afd",
   "metadata": {},
   "outputs": [],
   "source": [
    "math.sqrt(81)"
   ]
  },
  {
   "cell_type": "code",
   "execution_count": null,
   "id": "0ded4466-f9a7-4fa1-a999-9f9c518ee868",
   "metadata": {},
   "outputs": [],
   "source": [
    "dir(math)"
   ]
  },
  {
   "cell_type": "markdown",
   "id": "23eb46e7-13f3-47ea-b5dd-3e00b87ae807",
   "metadata": {},
   "source": [
    "## Python com Variáveis"
   ]
  },
  {
   "cell_type": "code",
   "execution_count": null,
   "id": "a4c61ca5-c4b8-4750-a321-3854a4fa45cf",
   "metadata": {},
   "outputs": [],
   "source": [
    "m = 42"
   ]
  },
  {
   "cell_type": "code",
   "execution_count": null,
   "id": "41e2df63-031f-4f9f-be7e-055ba0edd446",
   "metadata": {},
   "outputs": [],
   "source": [
    "m"
   ]
  },
  {
   "cell_type": "code",
   "execution_count": null,
   "id": "f58cfeef-409e-4c94-8877-17254b567b18",
   "metadata": {},
   "outputs": [],
   "source": [
    "?m"
   ]
  },
  {
   "cell_type": "code",
   "execution_count": null,
   "id": "c0ccc4d3-81c0-44af-be92-1551c1a2a927",
   "metadata": {},
   "outputs": [],
   "source": [
    "temperatura = 29.5; temperatura"
   ]
  },
  {
   "cell_type": "code",
   "execution_count": null,
   "id": "ffd6a373-c6cb-46a7-ac21-88790a216224",
   "metadata": {},
   "outputs": [],
   "source": [
    "?temperatura"
   ]
  },
  {
   "cell_type": "code",
   "execution_count": null,
   "id": "eabfa792-74a5-4383-a369-75a9b556befe",
   "metadata": {},
   "outputs": [],
   "source": [
    "a = 9.786"
   ]
  },
  {
   "cell_type": "code",
   "execution_count": null,
   "id": "c1657ef2-66a1-4f71-9cfa-8fd3104c1f8f",
   "metadata": {},
   "outputs": [],
   "source": [
    "m*a"
   ]
  },
  {
   "cell_type": "code",
   "execution_count": null,
   "id": "97f7da55-99b4-4ef5-97a1-6d420b8a88e5",
   "metadata": {},
   "outputs": [],
   "source": [
    "forca = m*a"
   ]
  },
  {
   "cell_type": "code",
   "execution_count": null,
   "id": "fdb8b88a-2acb-4b4d-b3b7-e9e1cdde800a",
   "metadata": {},
   "outputs": [],
   "source": [
    "?forca"
   ]
  },
  {
   "cell_type": "code",
   "execution_count": null,
   "id": "5577f9ab-9ea0-40b2-8928-00476be4e2a4",
   "metadata": {},
   "outputs": [],
   "source": [
    "print(forca)"
   ]
  },
  {
   "cell_type": "code",
   "execution_count": null,
   "id": "a49aef2f-2192-4469-8d4a-1d91dcaae377",
   "metadata": {},
   "outputs": [],
   "source": [
    "print(\"Força = \", forca, \" N de massa m = \", \n",
    "      m, \" kg e aceleração a = \", a, \" m/s^2\")"
   ]
  },
  {
   "cell_type": "code",
   "execution_count": null,
   "id": "c8e65740-ccbf-4e90-9c63-4c9c17f87c62",
   "metadata": {},
   "outputs": [],
   "source": [
    "m = 13"
   ]
  },
  {
   "cell_type": "code",
   "execution_count": null,
   "id": "c1080a01-ce78-4ce7-8a9b-61ee9d2d6a14",
   "metadata": {},
   "outputs": [],
   "source": [
    "forca"
   ]
  },
  {
   "cell_type": "code",
   "execution_count": null,
   "id": "05d832c9-65e7-428f-8a5b-ad1d025303d0",
   "metadata": {},
   "outputs": [],
   "source": [
    "forca = m*a"
   ]
  },
  {
   "cell_type": "code",
   "execution_count": null,
   "id": "3266d461-5199-438c-b372-484211b4755e",
   "metadata": {},
   "outputs": [],
   "source": [
    "forca"
   ]
  },
  {
   "cell_type": "code",
   "execution_count": null,
   "id": "f64dec22-8fad-4c09-a640-f0a880f1e01e",
   "metadata": {},
   "outputs": [],
   "source": [
    "del(temperatura)"
   ]
  },
  {
   "cell_type": "code",
   "execution_count": null,
   "id": "52235916-9a5d-423d-bca2-008091ff9af9",
   "metadata": {},
   "outputs": [],
   "source": [
    "?temperatura"
   ]
  },
  {
   "cell_type": "code",
   "execution_count": null,
   "id": "355a0b59-a3ea-4314-afe6-152da5bb96fb",
   "metadata": {},
   "outputs": [],
   "source": [
    "print(temperatura)"
   ]
  }
 ],
 "metadata": {
  "kernelspec": {
   "display_name": "Python 3 (ipykernel)",
   "language": "python",
   "name": "python3"
  },
  "language_info": {
   "codemirror_mode": {
    "name": "ipython",
    "version": 3
   },
   "file_extension": ".py",
   "mimetype": "text/x-python",
   "name": "python",
   "nbconvert_exporter": "python",
   "pygments_lexer": "ipython3",
   "version": "3.13.5"
  }
 },
 "nbformat": 4,
 "nbformat_minor": 5
}
