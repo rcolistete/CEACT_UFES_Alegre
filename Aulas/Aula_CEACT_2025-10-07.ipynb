{
 "cells": [
  {
   "cell_type": "markdown",
   "id": "99266f0b-4766-46d6-8220-6d5c64c16411",
   "metadata": {
    "id": "lsmefjJEM8p6"
   },
   "source": [
    "# <div style=\"text-align:center; color:blue\">Aula de 07/10/2025</div>\n",
    "## <div style=\"text-align:center\">Disciplina [\"Computação no Ensino e Aprendizagem de Ciência e Tecnologia\" (CEACT)](https://github.com/rcolistete/CEACT_UFES_Alegre)</div>\n",
    "## <div style=\"text-align:center; color:red\">Curso de Licenciatura em Física - 2025/2</div>\n",
    "### <center>[DQF - CCENS](http://alegre.ufes.br/ccens/departamento-de-quimica-e-fisica) - [UFES/Alegre](http://alegre.ufes.br/)</center>\n",
    "### <div style=\"text-align:center; color:green\">Autoria : [Roberto Colistete Jr.](https://github.com/rcolistete)</div>"
   ]
  },
  {
   "cell_type": "markdown",
   "id": "6ed3fad3-15e2-4d85-8fa1-b62c19f0444f",
   "metadata": {
    "jp-MarkdownHeadingCollapsed": true
   },
   "source": [
    "## Antigravidade em Python !"
   ]
  },
  {
   "cell_type": "markdown",
   "id": "c4c0464f-2364-437b-96e4-45c4a8748a10",
   "metadata": {},
   "source": [
    "Adivinhe o que vai acontecer ao rodar o comando abaixo ?"
   ]
  },
  {
   "cell_type": "code",
   "execution_count": null,
   "id": "60dfc4dd-8cf3-4f68-823b-3b43a697dd79",
   "metadata": {},
   "outputs": [],
   "source": [
    "import antigravity"
   ]
  },
  {
   "cell_type": "markdown",
   "id": "cff931ee-7d95-4842-915e-1f996c5c51f0",
   "metadata": {},
   "source": [
    "[xkcd](https://xkcd.com/) é uma webcomic (tirinhas em quadrinhos via site Internet), bem geek/neerd.\n",
    "\n",
    "O [autor, Randall Munroe](https://xkcd.com/about/), é formado em Física e trabalhou na NASA."
   ]
  },
  {
   "cell_type": "markdown",
   "id": "9c32a460-da0c-4d7c-bcd1-2a4df2909b09",
   "metadata": {},
   "source": [
    "A tirinha aberta pelo comando `import antigravity` é a [\"Python\"](https://xkcd.com/353/), vide [explicação aqui](https://www.explainxkcd.com/wiki/index.php/353:_Python)."
   ]
  },
  {
   "cell_type": "markdown",
   "id": "70c9272f-8f75-4c96-9f62-b2df61737426",
   "metadata": {},
   "source": [
    "Esse site [\"Explain xkcd Wiki\"](https://www.explainxkcd.com/wiki/index.php/Main_Page) tem explicações da comunidade para quase todas as tirinhas do xkcd."
   ]
  },
  {
   "cell_type": "markdown",
   "id": "1bbdf552-f6a2-407b-9b4c-a611daafc411",
   "metadata": {},
   "source": [
    "Forma nerd de acessar o xkcd :\n",
    "https://uni.xkcd.com/"
   ]
  },
  {
   "cell_type": "markdown",
   "id": "386cf2fd-c60b-44fd-b919-b6b56298e94f",
   "metadata": {},
   "source": [
    "Tem várias outras piadas do xkcd famosas e/ou que eu gostei muito, por exemplo :\n",
    "\n",
    "- [\"Devotion to Duty\"](https://xkcd.com/705/), sobre ser sys admin, vide [explicação](https://www.explainxkcd.com/wiki/index.php/705:_Devotion_to_Duty);\n",
    "\n",
    "- [tar](https://xkcd.com/1168/), sobre o comando `tar` do Linux, vide [explicação](https://www.explainxkcd.com/wiki/index.php/1168:_tar);\n",
    "\n"
   ]
  },
  {
   "cell_type": "markdown",
   "id": "9f78cf5a-fbeb-44d8-b294-6ecf62544cd4",
   "metadata": {},
   "source": [
    "---"
   ]
  },
  {
   "cell_type": "markdown",
   "id": "59b231c8-68de-42e9-be49-1eb1286ac5ec",
   "metadata": {
    "jp-MarkdownHeadingCollapsed": true
   },
   "source": [
    "## Usando Texto Formatado em documento Jupyter Notebook"
   ]
  },
  {
   "cell_type": "markdown",
   "id": "765ee9a8-6bbd-4554-a44a-1cead06a4878",
   "metadata": {},
   "source": [
    "### Parágrafos, itálico e negrito, alinhamento, cores :"
   ]
  },
  {
   "cell_type": "markdown",
   "id": "246de810-005c-4e9c-bc00-f531f376128a",
   "metadata": {},
   "source": [
    "(Clique duas vezes nas células abaixo para ver o código usado dentro de uma célula Markdown)"
   ]
  },
  {
   "cell_type": "markdown",
   "id": "abc9c7ab-92a9-408e-a624-74a3ec217e57",
   "metadata": {},
   "source": [
    "O tipo de célula (cell) \"Markdown\" permite uso de texto simples e formatado, com parágrafos  \n",
    "(com uma linha em branco separando-os) e quebra-de-linha (feita com 2 ou mais espaços ao final da linha).\n",
    "\n",
    "Texto *em itálico* é obtido com 1 asterisco (\\*) em volta do texto, **em negrito** com 2 asteriscos (\\*\\*), e ***em itálico e negrito*** com 3 asteriscos (\\*\\*\\*).\n",
    "\n",
    "A sintaxe acima é da linguagem Markdown de formatação de textos."
   ]
  },
  {
   "cell_type": "markdown",
   "id": "19f075c2-dbfc-49b5-8065-9d1d42f9c01a",
   "metadata": {},
   "source": [
    "A linguagem Markdown não tem todos os recursos de formatação de texto, como centralização, cor, etc.  \n",
    "Para tanto, pode-se misturar código HTML e Markdown. Por exemplo :\n",
    "<p style=\"text-align:center\">Essa 1a linha está centralizada devido a código em HTML.</p>\n",
    "<p style=\"color:red\">A 2a linha tem cor vermelha devido a código em HTML.</p>\n",
    "<p style=\"text-align:right; color:blue\">Agora a 3a linha está alinhada na direita e com cor azul, devido a código em HTML.</p>"
   ]
  },
  {
   "cell_type": "markdown",
   "id": "d0757d37-ea4f-409e-a049-0ec4b9ae7302",
   "metadata": {},
   "source": [
    "---"
   ]
  },
  {
   "cell_type": "markdown",
   "id": "a6e74ebc-c89e-49a7-9a0c-451353ab1174",
   "metadata": {},
   "source": [
    "### Títulos e sub-títulos :"
   ]
  },
  {
   "cell_type": "markdown",
   "id": "55a86f24-d5ec-486a-8fde-5dd0f309c067",
   "metadata": {},
   "source": [
    "Podemos usar célula \"Markdown\" com '=' (1 ou mais) abaixo do texto para torná-lo título.\n",
    "=\n",
    "E usar '-' (1 ou mais) abaixo do texto dentro de célula \"Markdown\" para sub-título.\n",
    "-"
   ]
  },
  {
   "cell_type": "markdown",
   "id": "ca7d438d-ddce-4f98-a7b0-d4a8474bdfca",
   "metadata": {},
   "source": [
    "# Outra opção, é usar 1 '#' (seguido de espaço em branco) no início da linha de título em uma célula Markdown...\n",
    "## 2 '#' para sub-título (equivalente a \"Heading 2\")...\n",
    "### 3 '#' para sub-título (equivalente a \"Heading 3\")...\n",
    "#### 4 '#' para sub-título (equivalente a \"Heading 4\")...\n",
    "##### 5 '#' para sub-título (equivalente a \"Heading 5\")...\n",
    "###### 6 '#' para sub-título (equivalente a \"Heading 6\")."
   ]
  },
  {
   "cell_type": "markdown",
   "id": "b09ac5bc-08ed-4ba2-a17a-db904cd26e25",
   "metadata": {},
   "source": [
    "Para títulos centralizados, coloridos, etc, precisamos usar código HTML, por exemplo :"
   ]
  },
  {
   "cell_type": "markdown",
   "id": "b9ddb325-0399-4b4e-b14e-bd61ddf2ba71",
   "metadata": {},
   "source": [
    "### <center>Título centralizado usando < center >, que ficou ultrapassado no HTML 4, logo não é recomendado usar (mas todo mundo usa)...</center>\n",
    "## <div style=\"text-align:center\">Idem, porém usando CSS style com text-align:center, que é recomendado.</div>\n",
    "# <div style=\"text-align:center; color:green\">Adicionando cor além de centralização no CSS style.</div>"
   ]
  },
  {
   "cell_type": "markdown",
   "id": "dd48b586-de87-40b6-9c97-fc88f667b42d",
   "metadata": {},
   "source": [
    "---"
   ]
  },
  {
   "cell_type": "markdown",
   "id": "90f70830-fea7-4475-a0bc-1c3a9145ce61",
   "metadata": {
    "jp-MarkdownHeadingCollapsed": true
   },
   "source": [
    "### Listas :"
   ]
  },
  {
   "cell_type": "markdown",
   "id": "d6f4482d-6270-4230-b114-25e0ce73a839",
   "metadata": {},
   "source": [
    "(Clique duas vezes nas células abaixo para ver o código usado dentro de uma célula Markdown)"
   ]
  },
  {
   "cell_type": "markdown",
   "id": "302742fc-6721-41eb-8c8e-9ffdb47f2e8a",
   "metadata": {},
   "source": [
    "Lista não-numerada pode usar '*', '+' ou '-' como caracteres de início para os ítens da lista, antes deve ter uma linha em branco. Com 4 espaços (ou 'tab') de indentação, temos sub-lista.\n",
    "* Notebook gamer :\n",
    "  - CPU AMD Ryzen 5 3500U\n",
    "  - 16GB de RAM DDR4 2.400 MHz\n",
    "  - SSD :\n",
    "    + SATA3 de 256GB\n",
    "    * NVMe de 512GB\n",
    "* PC Desktop gamer :\n",
    "  * CPU AMD Ryzen 9 7900\n",
    "  * 64GB de RAM DDR5 8.000 MHz\n",
    "  * SSD :\n",
    "    * NVMe PCIe Gen4 de 1TB\n",
    "    * NVMe PCIe Gen4 de 4TB"
   ]
  },
  {
   "cell_type": "markdown",
   "id": "c87fcc60-ae6b-4ca8-830c-40c25995b8a7",
   "metadata": {},
   "source": [
    "Lista numerada, começa com número seguido de ponto decimal. A numeração sempre começa com '1' (ou 'A'), independente do número que escolhemos. Com 2 espaços (ou 'tab') de indentação, temos sub-lista :\n",
    "1. **Frutas**\n",
    "    2. Laranja\n",
    "    3. Maçã\n",
    "        3. Verde\n",
    "        2. Argentina \n",
    "    5. Manga\n",
    "5. Legumes\n",
    "7. Verduras"
   ]
  },
  {
   "cell_type": "markdown",
   "id": "efd22731-a3e2-44c0-a7e2-ae9d26115720",
   "metadata": {},
   "source": [
    "---"
   ]
  },
  {
   "cell_type": "markdown",
   "id": "d9d85fc8-dc49-4436-a66d-e59d43e85a30",
   "metadata": {
    "jp-MarkdownHeadingCollapsed": true
   },
   "source": [
    "### Citando texto e código-fonte :"
   ]
  },
  {
   "cell_type": "markdown",
   "id": "4700af67-4e62-4481-a1b6-cb4512ae98de",
   "metadata": {},
   "source": [
    "(Clique duas vezes nas células abaixo para ver o código usado dentro de uma célula Markdown)"
   ]
  },
  {
   "cell_type": "markdown",
   "id": "b621633c-5b89-435f-a8ae-535e47804b02",
   "metadata": {},
   "source": [
    "Para citar texto é simples, basta colocar um '>' no início de cada linha/parágrafo a ser comentado :\n",
    "\n",
    "Why is it called Python ?\n",
    "> When he began implementing Python, Guido van Rossum was also reading the published scripts from “Monty Python’s Flying Circus”, a BBC comedy series from the 1970s. Van Rossum thought he needed a name that was short, unique, and slightly mysterious, so he decided to call the language Python."
   ]
  },
  {
   "cell_type": "markdown",
   "id": "b1125cc8-4e18-4420-b756-4640e2e010da",
   "metadata": {},
   "source": [
    "Para citar código-fonte (Python ou de outras linguagens) :"
   ]
  },
  {
   "cell_type": "markdown",
   "id": "3cd4cbce-9b30-4e61-93c7-42f3b3491e4a",
   "metadata": {},
   "source": [
    "```\n",
    "import math\n",
    "print(math.sqrt(2))\n",
    "```\n",
    "\n",
    "```python\n",
    "import math\n",
    "print(math.sqrt(2))\n",
    "```"
   ]
  },
  {
   "cell_type": "markdown",
   "id": "3045633d-434d-437a-813e-c59da63f3a17",
   "metadata": {},
   "source": [
    "---"
   ]
  },
  {
   "cell_type": "markdown",
   "id": "7a6659f5-d7db-455b-9a54-84d5a78fcadc",
   "metadata": {
    "jp-MarkdownHeadingCollapsed": true
   },
   "source": [
    "### Expressões Matemáticas :"
   ]
  },
  {
   "cell_type": "markdown",
   "id": "b7de11a5-2f3e-4058-993b-2d64a8aaf1d3",
   "metadata": {},
   "source": [
    "(Clique duas vezes nas células abaixo para ver o código usado dentro de uma célula Markdown)"
   ]
  },
  {
   "cell_type": "markdown",
   "id": "9d1a61ef-44a3-4de1-afa7-78d33bfccb70",
   "metadata": {},
   "source": [
    "Expressões matemáticas podem ser inseridas no meio do texto ou em exibição separada, em ambos os casos se usa a linguagem MathJax (LaTeX via JavaScript).  \n",
    "Lembrar de duplicar os caracteres '`\\`' usados em LaTeX pois eles são processados pela linguagem Markdown.\n",
    "\n",
    "No meio do texto, usa-se `'$'` delimitando a expressão matemática. Por exemplo : $ x(t) = x_0 + v_0\\, t + a\\, t^2/2 $."
   ]
  },
  {
   "cell_type": "markdown",
   "id": "0a92e805-94d3-426f-8fa1-9ae2d0098a6e",
   "metadata": {},
   "source": [
    "Para exibição em parágrafo separado, usa-se `'$$'` delimitando a expressão matemática :\n",
    "\n",
    "$$x(t) = x_0 + v_0\\, t + a\\left(\\frac{t^2}{2} \\right)$$\n",
    "\n",
    "$$\\lim_{x \\to 0}\\frac{sin(x)}{x} = 1$$\n",
    "\n",
    "$$\\int_{-\\pi}^{+\\pi} sin(x) dx = 0$$\n",
    "\n",
    "Expressão multi-linha :\n",
    "\n",
    "$$|x| = \\begin{cases}\n",
    "+x & \\text{, se } x \\ge 0 \\\\\\\\\n",
    "-x & \\text{, se } x \\lt 0\n",
    "\\end{cases}$$\n",
    "\n",
    "Múltiplas equações :\n",
    "\n",
    "$$\\begin{gather}\n",
    "\\frac{d}{{dx}}x^n = n x^{n-1}\\, ,\\\\\\\\\n",
    "\\frac{d}{{dx}}sin(x) = cos(x)\\, ,\\\\\\\\\n",
    "\\frac{d}{{dx}}cos(x) = -sin(x)\\, .\\\\\\\\\n",
    "\\end{gather}$$"
   ]
  },
  {
   "cell_type": "markdown",
   "id": "3d9941b5-b217-4758-9e09-df10c09b16aa",
   "metadata": {},
   "source": [
    "---"
   ]
  },
  {
   "cell_type": "markdown",
   "id": "76dfdc35-997c-4c51-be54-e9007be4aec5",
   "metadata": {
    "jp-MarkdownHeadingCollapsed": true
   },
   "source": [
    "### Links :"
   ]
  },
  {
   "cell_type": "markdown",
   "id": "da693ea4-32f2-43e1-b41c-bbb663dcbf3f",
   "metadata": {},
   "source": [
    "(Clique duas vezes na célula abaixo para ver o código usado dentro de uma célula Markdown)"
   ]
  },
  {
   "cell_type": "markdown",
   "id": "48503111-b69d-469d-b61e-008a09f650fc",
   "metadata": {},
   "source": [
    "Há 3 tipos de links : automáticos, em uma linha, usando referência.\n",
    "\n",
    "O link automático fica entre '<' e '>'. Por exemplo : <http://www.robertocolistete.net/ICF>.\n",
    "\n",
    "O link em uma linha tem o texto entre '[' e ']', o endereço web entre '(' e ')' com um título opcional entre aspas que aparece sob o cursor do mouse : [Introd. à Computação em Física - ICF](http://www.robertocolistete.net/ICF \"ICF\").\n",
    "\n",
    "Link usando referência é útil quando ocorre mais de uma vez no texto, bastando definir só uma vez e em qualquer lugar (podendo todas as definições ficarem no final, tal como uma referência bibliográfica).  \n",
    "Por exemplo : a disciplina de [Introd. à Computação em Física - ICF][ICF] usa Python como linguagem de programação, para instalar Python e suas ferramentas veja o [site da disciplina][ICF].\n",
    "[ICF]: http://www.robertocolistete.net/ICF/ \"ICF\""
   ]
  },
  {
   "cell_type": "markdown",
   "id": "1bd8cce8-a115-4828-9232-74b17ff5a2ad",
   "metadata": {},
   "source": [
    "---"
   ]
  },
  {
   "cell_type": "markdown",
   "id": "ef214a8a-511a-43b7-9d31-efed33e998af",
   "metadata": {
    "jp-MarkdownHeadingCollapsed": true
   },
   "source": [
    "### Imagem local e remota (via Internet) :"
   ]
  },
  {
   "cell_type": "markdown",
   "id": "be4b268c-a33d-42db-8ed3-b354199d4223",
   "metadata": {},
   "source": [
    "(Clique duas vezes nas células abaixo para ver o código usado dentro de uma célula Markdown)"
   ]
  },
  {
   "cell_type": "markdown",
   "id": "9633b503-f41c-4693-9057-4b052799c06b",
   "metadata": {},
   "source": [
    "Incluir imagem embutida local ou remota é semelhante a colocar um link, porém com o endereço (local ou remoto) da imagem entre '(' e ')'.\n",
    "\n",
    "O [logo do Python](http://www.python.org/community/logos/) está em arquivo local (citado pelo '/files/') no mesmo diretório do notebook \".ipynb\" :"
   ]
  },
  {
   "cell_type": "markdown",
   "id": "126cc163-a0a2-40ec-b774-e6bb03c8098d",
   "metadata": {},
   "source": [
    "![Logo do Python](/files/python-logo.png)"
   ]
  },
  {
   "cell_type": "markdown",
   "id": "6294fbe4-4ef7-4154-af8a-2b75b526fcf5",
   "metadata": {},
   "source": [
    "Versão remota :"
   ]
  },
  {
   "cell_type": "markdown",
   "id": "1aff8c7b-87ed-4d4a-8731-d358fb6ed82a",
   "metadata": {},
   "source": [
    "![Logo do Python, online](https://www.python.org/static/community_logos/python-logo.png)"
   ]
  },
  {
   "cell_type": "markdown",
   "id": "be35d361-9b70-4310-a2e4-ff591bb78125",
   "metadata": {},
   "source": [
    "Para mudar o tamanho da imagem é preciso usar HTML ao invés de Markdown :\n",
    "\n",
    "<img src=\"https://www.python.org/static/community_logos/python-logo.png\" alt=\"Logo do Python reduzido\" width=\"105\" height=\"35\">"
   ]
  },
  {
   "cell_type": "markdown",
   "id": "f335dd52-0325-43c9-8d57-15a0d1feb5bb",
   "metadata": {},
   "source": [
    "---"
   ]
  },
  {
   "cell_type": "markdown",
   "id": "f75f841a-ba78-463a-b1e8-187e34d1def5",
   "metadata": {
    "jp-MarkdownHeadingCollapsed": true
   },
   "source": [
    "### Outros :"
   ]
  },
  {
   "cell_type": "markdown",
   "id": "e6ceb713-e081-45c8-ad10-972d48642ac5",
   "metadata": {},
   "source": [
    "(Clique duas vezes nas células abaixo para ver o código usado dentro de uma célula Markdown)"
   ]
  },
  {
   "cell_type": "markdown",
   "id": "a9c88869-dd8e-494c-bbfb-9f1fb834462c",
   "metadata": {},
   "source": [
    "Separador horizontal é definido com 3 '-' ou '*' em uma célula \"Markdown\" :\n",
    "\n",
    "---"
   ]
  },
  {
   "cell_type": "code",
   "execution_count": null,
   "id": "62d413ba-f604-4d19-aa76-b0bfa212a2cc",
   "metadata": {},
   "outputs": [],
   "source": []
  },
  {
   "cell_type": "markdown",
   "id": "c9c41bf2-fc06-4df9-98f5-aac69a45d8e9",
   "metadata": {
    "jp-MarkdownHeadingCollapsed": true
   },
   "source": [
    "## Variáveis numéricas em Python "
   ]
  },
  {
   "cell_type": "code",
   "execution_count": null,
   "id": "6eec195d-f868-440c-9048-ea7d294103f4",
   "metadata": {},
   "outputs": [],
   "source": [
    "m = 42"
   ]
  },
  {
   "cell_type": "code",
   "execution_count": null,
   "id": "8408e1be-1c97-4429-8fc7-ae5c20a82d6b",
   "metadata": {},
   "outputs": [],
   "source": [
    "m"
   ]
  },
  {
   "cell_type": "code",
   "execution_count": null,
   "id": "f598c5a9-0e32-4932-959f-c8243c60f844",
   "metadata": {},
   "outputs": [],
   "source": [
    "?m"
   ]
  },
  {
   "cell_type": "code",
   "execution_count": null,
   "id": "340a3edc-6007-41e0-a25b-c67d75812b49",
   "metadata": {},
   "outputs": [],
   "source": [
    "temperatura = 29.5; temperatura"
   ]
  },
  {
   "cell_type": "code",
   "execution_count": null,
   "id": "8c661124-294b-4360-877d-f1ae1e19d575",
   "metadata": {},
   "outputs": [],
   "source": [
    "?temperatura"
   ]
  },
  {
   "cell_type": "code",
   "execution_count": null,
   "id": "af12cf54-634a-4a50-bba9-f3e50f8bea4b",
   "metadata": {},
   "outputs": [],
   "source": [
    "a = 9.786"
   ]
  },
  {
   "cell_type": "code",
   "execution_count": null,
   "id": "5c8c1bca-7609-448b-8d7b-4bfb32abe384",
   "metadata": {},
   "outputs": [],
   "source": [
    "m*a"
   ]
  },
  {
   "cell_type": "code",
   "execution_count": null,
   "id": "d7911411-93e5-492b-a798-87787beee27f",
   "metadata": {},
   "outputs": [],
   "source": [
    "forca = m*a"
   ]
  },
  {
   "cell_type": "code",
   "execution_count": null,
   "id": "2253541a-bfea-4781-b495-5919ba4baf04",
   "metadata": {},
   "outputs": [],
   "source": [
    "?forca"
   ]
  },
  {
   "cell_type": "code",
   "execution_count": null,
   "id": "f707395c-42ca-48d4-9dc0-033ca524afb6",
   "metadata": {},
   "outputs": [],
   "source": [
    "print(forca)"
   ]
  },
  {
   "cell_type": "code",
   "execution_count": null,
   "id": "c8ae9fc5-4b83-447d-a00e-fcdd5c2e67bf",
   "metadata": {},
   "outputs": [],
   "source": [
    "print(\"Força = \", forca, \" N de massa m = \", \n",
    "      m, \" kg e aceleração a = \", a, \" m/s^2\")"
   ]
  },
  {
   "cell_type": "code",
   "execution_count": null,
   "id": "2740362b-b8c7-412e-af3b-96ebb64f7a8a",
   "metadata": {},
   "outputs": [],
   "source": [
    "m = 13"
   ]
  },
  {
   "cell_type": "code",
   "execution_count": null,
   "id": "35c0f14c-383c-4e72-b4b1-c964c9961dae",
   "metadata": {},
   "outputs": [],
   "source": [
    "forca"
   ]
  },
  {
   "cell_type": "code",
   "execution_count": null,
   "id": "62a5c1d5-6cdc-4cb3-a994-904787b65ba3",
   "metadata": {},
   "outputs": [],
   "source": [
    "forca = m*a"
   ]
  },
  {
   "cell_type": "code",
   "execution_count": null,
   "id": "79ea52d6-56a0-4373-a806-180cee1232d2",
   "metadata": {},
   "outputs": [],
   "source": [
    "forca"
   ]
  },
  {
   "cell_type": "code",
   "execution_count": null,
   "id": "c0fb610b-8947-4ac9-b064-edc0fe9e7a3e",
   "metadata": {},
   "outputs": [],
   "source": [
    "del(temperatura)"
   ]
  },
  {
   "cell_type": "code",
   "execution_count": null,
   "id": "6f48c208-10d0-491e-a2d6-0d432357748c",
   "metadata": {},
   "outputs": [],
   "source": [
    "?temperatura"
   ]
  },
  {
   "cell_type": "code",
   "execution_count": null,
   "id": "6c7ae5c9-3907-45f1-b4f6-cb9abff49cc7",
   "metadata": {},
   "outputs": [],
   "source": [
    "print(temperatura)"
   ]
  },
  {
   "cell_type": "markdown",
   "id": "43f76357-2e07-45d5-a6c6-8f2055b845fc",
   "metadata": {
    "jp-MarkdownHeadingCollapsed": true
   },
   "source": [
    "## Funções em Python"
   ]
  },
  {
   "cell_type": "code",
   "execution_count": null,
   "id": "241a1faa-55f4-40a5-a6a5-391c0d2fa5b0",
   "metadata": {},
   "outputs": [],
   "source": [
    "def posicaox(x0, v0, a, t):\n",
    "    return x0 + v0*t + (a*t**2)/2"
   ]
  },
  {
   "cell_type": "code",
   "execution_count": null,
   "id": "e844e234-6f37-47ce-b56e-f2ccff09f5e8",
   "metadata": {},
   "outputs": [],
   "source": [
    "posicaox(4, 7, 9.8, 2)"
   ]
  },
  {
   "cell_type": "code",
   "execution_count": null,
   "id": "3a052981-2b9d-4d80-b037-24915a35e93d",
   "metadata": {},
   "outputs": [],
   "source": [
    "posicaox(4, 7, -9.8, 2)"
   ]
  },
  {
   "cell_type": "code",
   "execution_count": null,
   "id": "28c76b2d-aa97-444c-917c-85baf3f935a2",
   "metadata": {},
   "outputs": [],
   "source": [
    "def testeaceleracao(acel):\n",
    "    if acel > 0:\n",
    "        print(\"Aceleração é positiva\")\n",
    "    elif acel == 0:\n",
    "        print(\"Aceleração é nula\")\n",
    "    else:    \n",
    "        print(\"Aceleração é negativa\")"
   ]
  },
  {
   "cell_type": "code",
   "execution_count": null,
   "id": "fb215aeb-d212-47d2-87fd-065125045f90",
   "metadata": {},
   "outputs": [],
   "source": [
    "testeaceleracao(-9.8)"
   ]
  },
  {
   "cell_type": "code",
   "execution_count": null,
   "id": "1febcfa2-1321-4d2a-b126-14ab86ebb8db",
   "metadata": {},
   "outputs": [],
   "source": [
    "testeaceleracao(9.8)"
   ]
  },
  {
   "cell_type": "code",
   "execution_count": null,
   "id": "8ae94cf4-2e7b-4b01-a35c-862c852868c6",
   "metadata": {},
   "outputs": [],
   "source": [
    "testeaceleracao(0)"
   ]
  },
  {
   "cell_type": "code",
   "execution_count": null,
   "id": "d0af93d3-c74b-422f-8912-35b65b736140",
   "metadata": {},
   "outputs": [],
   "source": [
    "testeaceleracao(0.0)"
   ]
  },
  {
   "cell_type": "markdown",
   "id": "9cbb1282-8b3d-40fd-b4a6-7334f0277727",
   "metadata": {
    "jp-MarkdownHeadingCollapsed": true
   },
   "source": [
    "## [SymPy](https://www.sympy.org/en/index.html)"
   ]
  },
  {
   "cell_type": "code",
   "execution_count": null,
   "id": "dce3503f-8709-451c-b36c-6150676c1673",
   "metadata": {},
   "outputs": [],
   "source": [
    "x, y, t = symbols('x y t')"
   ]
  },
  {
   "cell_type": "code",
   "execution_count": null,
   "id": "6241bf8d-0560-4556-b0a9-e2523e796ebb",
   "metadata": {},
   "outputs": [],
   "source": [
    "x"
   ]
  },
  {
   "cell_type": "code",
   "execution_count": null,
   "id": "18922159-ce80-4f83-8b48-30553b7c9f51",
   "metadata": {
    "scrolled": true
   },
   "outputs": [],
   "source": [
    "?x"
   ]
  },
  {
   "cell_type": "code",
   "execution_count": null,
   "id": "1a8d0ae6-66af-4fb1-a2ce-c2920e49186a",
   "metadata": {},
   "outputs": [],
   "source": [
    "(x + 2)**2"
   ]
  },
  {
   "cell_type": "code",
   "execution_count": null,
   "id": "50681263-d7a2-4609-913f-3e2205003aef",
   "metadata": {},
   "outputs": [],
   "source": [
    "expand((x + 2)**2)"
   ]
  },
  {
   "cell_type": "code",
   "execution_count": null,
   "id": "efc65deb-af5d-4c7e-be5f-b2986f2a8d13",
   "metadata": {},
   "outputs": [],
   "source": [
    "expand((x + 2)**12)"
   ]
  },
  {
   "cell_type": "code",
   "execution_count": null,
   "id": "8da5573f-53a7-4503-ac86-04e929da416d",
   "metadata": {},
   "outputs": [],
   "source": [
    "expand((x + y)**2)"
   ]
  },
  {
   "cell_type": "code",
   "execution_count": null,
   "id": "a00fb925-e689-43f9-a46e-a791d9ec517e",
   "metadata": {},
   "outputs": [],
   "source": [
    "expand((x + y)**12)"
   ]
  },
  {
   "cell_type": "markdown",
   "id": "0e36f601-5e83-494f-8d2d-8a0bc3f541ca",
   "metadata": {
    "jp-MarkdownHeadingCollapsed": true
   },
   "source": [
    "#### [Cálculo](https://docs.sympy.org/latest/tutorials/intro-tutorial/calculus.html)"
   ]
  },
  {
   "cell_type": "code",
   "execution_count": null,
   "id": "a549cbb7-4143-475e-a64f-3e1f2b430344",
   "metadata": {},
   "outputs": [],
   "source": [
    "limit(sin(x)/x, x, 0)"
   ]
  },
  {
   "cell_type": "code",
   "execution_count": null,
   "id": "607b8586-af76-44e1-adfd-a50140507718",
   "metadata": {},
   "outputs": [],
   "source": [
    "limit(1/x, x, 0, '+')"
   ]
  },
  {
   "cell_type": "code",
   "execution_count": null,
   "id": "97e37534-c131-46b5-a327-eaec454843fc",
   "metadata": {},
   "outputs": [],
   "source": [
    "limit(1/x, x, 0, '-')"
   ]
  },
  {
   "cell_type": "code",
   "execution_count": null,
   "id": "3971b7cd-a7a0-4385-8188-65cbba15ff94",
   "metadata": {},
   "outputs": [],
   "source": [
    "diff(sin(x), x)"
   ]
  },
  {
   "cell_type": "code",
   "execution_count": null,
   "id": "91556b46-6f88-47c6-8768-308b30d6a3e8",
   "metadata": {},
   "outputs": [],
   "source": [
    "diff(exp(42*x), x)"
   ]
  },
  {
   "cell_type": "code",
   "execution_count": null,
   "id": "6319597d-1582-4eb4-a8b5-06c6208f5fdf",
   "metadata": {},
   "outputs": [],
   "source": [
    "Integral(cos(x), x)"
   ]
  },
  {
   "cell_type": "code",
   "execution_count": null,
   "id": "06ef8201-3cdd-407e-b915-7d4d01e8eb44",
   "metadata": {},
   "outputs": [],
   "source": [
    "integrate(cos(x), x)"
   ]
  },
  {
   "cell_type": "code",
   "execution_count": null,
   "id": "75fc7c06-5507-4715-9870-d184a07c77d7",
   "metadata": {},
   "outputs": [],
   "source": [
    "Integral(cos(x), (x, 0, pi/2))"
   ]
  },
  {
   "cell_type": "code",
   "execution_count": null,
   "id": "d8a81672-d5ce-4e7a-a46d-fe239abcd5c4",
   "metadata": {},
   "outputs": [],
   "source": [
    "integrate(cos(x), (x, 0, pi/2))"
   ]
  },
  {
   "cell_type": "code",
   "execution_count": null,
   "id": "ed2ee8b8-93da-4cc8-a705-b28a310eac95",
   "metadata": {},
   "outputs": [],
   "source": [
    "series(sin(x), x, 0, 10)"
   ]
  },
  {
   "cell_type": "code",
   "execution_count": null,
   "id": "db521125-852b-419e-9fb0-9f0442207864",
   "metadata": {},
   "outputs": [],
   "source": [
    "solve(x**2 + 10*x + 1, x) "
   ]
  },
  {
   "cell_type": "markdown",
   "id": "d725b8a3-8877-4d80-8cad-b861171d4103",
   "metadata": {
    "jp-MarkdownHeadingCollapsed": true
   },
   "source": [
    "### Gráficos usando [SymPy Plotting](https://docs.sympy.org/latest/modules/plotting.html#)"
   ]
  },
  {
   "cell_type": "code",
   "execution_count": null,
   "id": "4c6647d7-5b63-4c49-9cf8-de142decd1e5",
   "metadata": {},
   "outputs": [],
   "source": [
    "plot(sin(x),(x, 0, 10))"
   ]
  },
  {
   "cell_type": "code",
   "execution_count": null,
   "id": "cfb09bbe-3083-47e1-9128-6f6bf924f2a8",
   "metadata": {},
   "outputs": [],
   "source": [
    "plot(sin(x),(x, 0, 10));"
   ]
  },
  {
   "cell_type": "code",
   "execution_count": null,
   "id": "009943b6-e55e-47f3-af12-2b3d95b8f0f4",
   "metadata": {},
   "outputs": [],
   "source": [
    "plot(2.5*exp(-1.0*t/2)*cos(pi*t), (t, 0, 10), \n",
    "     title=u'Oscilador amortecido', legend=True, \n",
    "     xlabel='t', ylabel='x(t)');"
   ]
  },
  {
   "cell_type": "code",
   "execution_count": null,
   "id": "99aa669a-0dd1-48f9-a384-c38fea468ac6",
   "metadata": {},
   "outputs": [],
   "source": [
    "plot_parametric(cos(4*t)*cos(t), cos(4*t)*sin(t), \n",
    "        (t, 0, 2*pi), \n",
    "        title=u'Rosácea em coordenadas polares');"
   ]
  },
  {
   "cell_type": "code",
   "execution_count": null,
   "id": "60e961b7-640b-42f8-8892-d4f2d7f1a8bb",
   "metadata": {},
   "outputs": [],
   "source": [
    "plot_parametric(cos(5*t)*cos(t), cos(5*t)*sin(t), \n",
    "        (t, 0, 2*pi), \n",
    "        title=u'Rosácea em coordenadas polares');"
   ]
  },
  {
   "cell_type": "code",
   "execution_count": null,
   "id": "2c953226-9960-4d3f-83d9-1cc4d1de4c20",
   "metadata": {},
   "outputs": [],
   "source": [
    "from sympy.plotting import plot3d"
   ]
  },
  {
   "cell_type": "code",
   "execution_count": null,
   "id": "afaa1118-52cd-4d4a-bc91-adbc854954eb",
   "metadata": {},
   "outputs": [],
   "source": [
    "plot3d(5*x*y*exp(-x**2-y**2), (x, -2, 2), (y, -2, 2));"
   ]
  },
  {
   "cell_type": "code",
   "execution_count": null,
   "id": "633e8820-e562-4efa-a52b-648cadf09f86",
   "metadata": {},
   "outputs": [],
   "source": [
    "plot3d(5*x*y*exp(-x**2-y**2), (x, -2, 2), (y, -2, 2),\n",
    "       title=u'Superfície colorida', \n",
    "       xlabel='x', ylabel='y');"
   ]
  },
  {
   "cell_type": "code",
   "execution_count": null,
   "id": "be2dfaca-6e32-47fe-a455-51653e2b60aa",
   "metadata": {},
   "outputs": [],
   "source": [
    "from sympy.plotting import plot3d_parametric_line"
   ]
  },
  {
   "cell_type": "code",
   "execution_count": null,
   "id": "b6a5a158-2b99-4d0f-b57d-ab0dd163aaee",
   "metadata": {},
   "outputs": [],
   "source": [
    "wire3D = plot3d_parametric_line((2+cos(16*t))*cos(t),\n",
    "                                (2+cos(16*t))*sin(t), sin(16*t), \n",
    "                                (t,0,2*pi), title='Wire 3D curve', \n",
    "                                xlabel='x', ylabel='y');"
   ]
  }
 ],
 "metadata": {
  "kernelspec": {
   "display_name": "Python 3 (ipykernel)",
   "language": "python",
   "name": "python3"
  },
  "language_info": {
   "codemirror_mode": {
    "name": "ipython",
    "version": 3
   },
   "file_extension": ".py",
   "mimetype": "text/x-python",
   "name": "python",
   "nbconvert_exporter": "python",
   "pygments_lexer": "ipython3",
   "version": "3.13.5"
  }
 },
 "nbformat": 4,
 "nbformat_minor": 5
}
